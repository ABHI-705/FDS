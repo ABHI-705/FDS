{
  "nbformat": 4,
  "nbformat_minor": 0,
  "metadata": {
    "colab": {
      "provenance": []
    },
    "kernelspec": {
      "name": "python3",
      "display_name": "Python 3"
    },
    "language_info": {
      "name": "python"
    }
  },
  "cells": [
    {
      "cell_type": "code",
      "execution_count": null,
      "metadata": {
        "colab": {
          "base_uri": "https://localhost:8080/"
        },
        "id": "VXw7UI2YMuV9",
        "outputId": "73b8632b-6d8e-4ee0-9cea-4c5ba7bf821c"
      },
      "outputs": [
        {
          "output_type": "stream",
          "name": "stdout",
          "text": [
            "[0.23856744 0.26284002 0.23187596 0.32597735 0.27039761 0.2986248\n",
            " 0.37977658 0.30461102 0.23066971 0.37287168]\n"
          ]
        }
      ],
      "source": [
        "#Uniform Ditribution\n",
        "from numpy import random as r\n",
        "import matplotlib.pyplot as plt\n",
        "import seaborn as sns\n",
        "\n",
        "UniformMatrix = r.uniform(0.2, 0.4, size = (10))\n",
        "\n",
        "print(UniformMatrix)\n"
      ]
    },
    {
      "cell_type": "code",
      "source": [
        "sns.distplot(r.uniform(size = (1000)), hist = False)"
      ],
      "metadata": {
        "colab": {
          "base_uri": "https://localhost:8080/",
          "height": 340
        },
        "id": "9PH6FEr-NSZn",
        "outputId": "fe23cc8e-0d87-4cec-dabe-cbbc5dc8e7c9"
      },
      "execution_count": null,
      "outputs": [
        {
          "output_type": "stream",
          "name": "stderr",
          "text": [
            "/usr/local/lib/python3.7/dist-packages/seaborn/distributions.py:2619: FutureWarning: `distplot` is a deprecated function and will be removed in a future version. Please adapt your code to use either `displot` (a figure-level function with similar flexibility) or `kdeplot` (an axes-level function for kernel density plots).\n",
            "  warnings.warn(msg, FutureWarning)\n"
          ]
        },
        {
          "output_type": "execute_result",
          "data": {
            "text/plain": [
              "<matplotlib.axes._subplots.AxesSubplot at 0x7f1c9bb98650>"
            ]
          },
          "metadata": {},
          "execution_count": 25
        },
        {
          "output_type": "display_data",
          "data": {
            "text/plain": [
              "<Figure size 432x288 with 1 Axes>"
            ],
            "image/png": "[encoded data removed]"
          },
          "metadata": {
            "needs_background": "light"
          }
        }
      ]
    },
    {
      "cell_type": "markdown",
      "source": [
        "**Bernoulli Distribution**"
      ],
      "metadata": {
        "id": "Evys7eAfN-rW"
      }
    },
    {
      "cell_type": "code",
      "source": [
        "from scipy.stats import bernoulli\n",
        "data_bern = bernoulli.rvs(size = 10000, p = 0.6)"
      ],
      "metadata": {
        "id": "AzLIxEPpN8yW"
      },
      "execution_count": null,
      "outputs": []
    },
    {
      "cell_type": "code",
      "source": [
        "ax = sns.distplot(data_bern, kde = False, color = \"skyblue\", hist_kws = {\"linewidth\" : 15, \"alpha\" : 1})\n",
        "ax.set(xlabel = \"Bernoulli Distribution\", ylabel = \"Frequency\")"
      ],
      "metadata": {
        "colab": {
          "base_uri": "https://localhost:8080/",
          "height": 297
        },
        "id": "Fbtr3W6VOrwH",
        "outputId": "c47292b9-71d2-47c2-b1c4-8046b878027b"
      },
      "execution_count": null,
      "outputs": [
        {
          "output_type": "execute_result",
          "data": {
            "text/plain": [
              "[Text(0, 0.5, 'Frequency'), Text(0.5, 0, 'Bernoulli Distribution')]"
            ]
          },
          "metadata": {},
          "execution_count": 17
        },
        {
          "output_type": "display_data",
          "data": {
            "text/plain": [
              "<Figure size 432x288 with 1 Axes>"
            ],
            "image/png": "[encoded data removed]"
          },
          "metadata": {
            "needs_background": "light"
          }
        }
      ]
    },
    {
      "cell_type": "markdown",
      "source": [
        "**Binomial Distribution**"
      ],
      "metadata": {
        "id": "DoW_y-8SQkHX"
      }
    },
    {
      "cell_type": "code",
      "source": [
        "from scipy.stats import binom\n",
        "data_binom = binom.rvs(n = 10, p = 0.8, size = 10000)"
      ],
      "metadata": {
        "id": "DanSxMNwPDTN"
      },
      "execution_count": null,
      "outputs": []
    },
    {
      "cell_type": "code",
      "source": [
        "ax = sns.distplot(data_binom, kde = False, color = \"skyblue\", hist_kws = {\"linewidth\" : 15, \"alpha\" : 1})\n",
        "ax.set(xlabel = \"Binomial Distribution\", ylabel = \"Frequency\")"
      ],
      "metadata": {
        "colab": {
          "base_uri": "https://localhost:8080/",
          "height": 354
        },
        "id": "i8M4jkacQ5cv",
        "outputId": "35bdbb6c-2190-4e19-b79b-29ee59274704"
      },
      "execution_count": null,
      "outputs": [
        {
          "output_type": "stream",
          "name": "stderr",
          "text": [
            "/usr/local/lib/python3.7/dist-packages/seaborn/distributions.py:2619: FutureWarning: `distplot` is a deprecated function and will be removed in a future version. Please adapt your code to use either `displot` (a figure-level function with similar flexibility) or `histplot` (an axes-level function for histograms).\n",
            "  warnings.warn(msg, FutureWarning)\n"
          ]
        },
        {
          "output_type": "execute_result",
          "data": {
            "text/plain": [
              "[Text(0, 0.5, 'Frequency'), Text(0.5, 0, 'Binomial Distribution')]"
            ]
          },
          "metadata": {},
          "execution_count": 27
        },
        {
          "output_type": "display_data",
          "data": {
            "text/plain": [
              "<Figure size 432x288 with 1 Axes>"
            ],
            "image/png": "[encoded data removed]"
          },
          "metadata": {
            "needs_background": "light"
          }
        }
      ]
    },
    {
      "cell_type": "markdown",
      "source": [
        "**Poisson Distribution**"
      ],
      "metadata": {
        "id": "9Wz9JdirRnWH"
      }
    },
    {
      "cell_type": "code",
      "source": [
        "from scipy.stats import poisson\n",
        "data_poisson = poisson.rvs(mu = 3, size = 10000)"
      ],
      "metadata": {
        "id": "HL1hIps0RI-d"
      },
      "execution_count": null,
      "outputs": []
    },
    {
      "cell_type": "code",
      "source": [
        "ax = sns.distplot(data_poisson, bins = 30, kde = False, color = \"skyblue\", hist_kws = {\"linewidth\" : 15, \"alpha\" : 1})\n",
        "ax.set(xlabel = \"Poisson Distribution\", ylabel = \"Frequency\")"
      ],
      "metadata": {
        "colab": {
          "base_uri": "https://localhost:8080/",
          "height": 354
        },
        "id": "SpDsgSd-R7oV",
        "outputId": "d1422b3b-d579-4c7a-d030-9648cd16ef0e"
      },
      "execution_count": null,
      "outputs": [
        {
          "output_type": "stream",
          "name": "stderr",
          "text": [
            "/usr/local/lib/python3.7/dist-packages/seaborn/distributions.py:2619: FutureWarning: `distplot` is a deprecated function and will be removed in a future version. Please adapt your code to use either `displot` (a figure-level function with similar flexibility) or `histplot` (an axes-level function for histograms).\n",
            "  warnings.warn(msg, FutureWarning)\n"
          ]
        },
        {
          "output_type": "execute_result",
          "data": {
            "text/plain": [
              "[Text(0, 0.5, 'Frequency'), Text(0.5, 0, 'Poisson Distribution')]"
            ]
          },
          "metadata": {},
          "execution_count": 30
        },
        {
          "output_type": "display_data",
          "data": {
            "text/plain": [
              "<Figure size 432x288 with 1 Axes>"
            ],
            "image/png": "[encoded data removed]"
          },
          "metadata": {
            "needs_background": "light"
          }
        }
      ]
    },
    {
      "cell_type": "code",
      "source": [
        "#A ware house typically recieves 8 delieveres between 4 and 5 on Friday\n",
        "#What is the probability that only 4 delieveries will arrive between 4 and 5 pm on friday?\n",
        "from scipy.stats import poisson\n",
        "poisson.pmf(4,8)"
      ],
      "metadata": {
        "colab": {
          "base_uri": "https://localhost:8080/"
        },
        "id": "8vBxT47NSCMV",
        "outputId": "8109cbd9-9434-4177-8478-6fbc41811dc1"
      },
      "execution_count": null,
      "outputs": [
        {
          "output_type": "execute_result",
          "data": {
            "text/plain": [
              "0.057252288495362"
            ]
          },
          "metadata": {},
          "execution_count": 34
        }
      ]
    },
    {
      "cell_type": "markdown",
      "source": [
        "**If we have to check for particular range we will use \"pmf\" and if we've some condition we should use \"cdf\" function**"
      ],
      "metadata": {
        "id": "5T9r8lXjV0M3"
      }
    },
    {
      "cell_type": "code",
      "source": [
        "#What is the probability of setting less than = 3 delieveries on friday between 4 and 5 pm?\n",
        "from scipy.stats import poisson\n",
        "poisson.cdf(3,8)"
      ],
      "metadata": {
        "colab": {
          "base_uri": "https://localhost:8080/"
        },
        "id": "JPLiuBPdTXym",
        "outputId": "8d86a218-e488-4e34-8572-95ca22c891cb"
      },
      "execution_count": null,
      "outputs": [
        {
          "output_type": "execute_result",
          "data": {
            "text/plain": [
              "0.04238011199168396"
            ]
          },
          "metadata": {},
          "execution_count": 37
        }
      ]
    },
    {
      "cell_type": "code",
      "source": [
        "#What is the probability of having no delieveries on friday between 4 and 5 pm?\n",
        "from scipy.stats import poisson\n",
        "poisson.cdf(0,8)"
      ],
      "metadata": {
        "colab": {
          "base_uri": "https://localhost:8080/"
        },
        "id": "YkU5-rZrUIMG",
        "outputId": "24e84e25-cf1a-41ab-eabf-7ed606ba91a7"
      },
      "execution_count": null,
      "outputs": [
        {
          "output_type": "execute_result",
          "data": {
            "text/plain": [
              "0.0003354626279025119"
            ]
          },
          "metadata": {},
          "execution_count": 38
        }
      ]
    },
    {
      "cell_type": "code",
      "source": [],
      "metadata": {
        "id": "41WwimfIVZT2"
      },
      "execution_count": null,
      "outputs": []
    }
  ]
}
