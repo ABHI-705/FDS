{
 "cells": [
  {
   "cell_type": "code",
   "execution_count": 1,
   "id": "bdf956af",
   "metadata": {},
   "outputs": [
    {
     "name": "stdout",
     "output_type": "stream",
     "text": [
      "probability of getting 3 is 0.16666666666666666\n"
     ]
    }
   ],
   "source": [
    "# probability of getting 3 when die is rolled\n",
    "ns=6 #n(S)={1,2,3,4,5,6}\n",
    "na=1 #n(a)={3}\n",
    "pa=na/ns # p(A)\n",
    "print(\"probability of getting 3 is\", pa)"
   ]
  },
  {
   "cell_type": "code",
   "execution_count": 2,
   "id": "aea3d736",
   "metadata": {},
   "outputs": [
    {
     "name": "stdout",
     "output_type": "stream",
     "text": [
      "probability of getting atleast one head is  0.875\n"
     ]
    }
   ],
   "source": [
    "# probabilty of getting atleast one head when a coin is tossed thrice\n",
    "ns=8 #n(s)={HHH,HHT,HTH,THH,TTT,TTH,THT,HTT}\n",
    "na=7 # n(A){TTH,THT,HTT,HHH,HHT,HTH,THH}\n",
    "pa=na/ns #p(A)\n",
    "print(\"probability of getting atleast one head is \",pa)"
   ]
  },
  {
   "cell_type": "code",
   "execution_count": 3,
   "id": "c16e6289",
   "metadata": {},
   "outputs": [
    {
     "name": "stdout",
     "output_type": "stream",
     "text": [
      "Probabilty of getting not a blue jelly is 0.7\n"
     ]
    }
   ],
   "source": [
    "# A glass jar contains 5 red , 3 blue and 2 green jelly beans. I\n",
    "# If the jelly bean is chosen at random from the jar ,\n",
    "#what is the probability that it is not blue\n",
    "ns=10 #n(s)={R,R,R,R,R,B,B,B,G,G}\n",
    "na=7 #n(A)={R,R,R,R,R,G,G}\n",
    "pa=na/ns # P(A)\n",
    "print(\"Probabilty of getting not a blue jelly is\", pa)"
   ]
  },
  {
   "cell_type": "code",
   "execution_count": 4,
   "id": "8bad95c6",
   "metadata": {},
   "outputs": [
    {
     "name": "stdout",
     "output_type": "stream",
     "text": [
      "probabilty that they will be alive after 20 years is: 0.35\n"
     ]
    }
   ],
   "source": [
    "# If the probability that person A  will be alive in 20 years\n",
    "# is 0.7 and the probability that person B will be alive in \n",
    "# 20 years is 0.5, what is the probability that they will \n",
    "# both be alive in 20 years?\n",
    "# These are independent event so, \n",
    "P=0.7*0.5\n",
    "print(\"probabilty that they will be alive after 20 years is:\", P)"
   ]
  },
  {
   "cell_type": "code",
   "execution_count": 5,
   "id": "3075c8cb",
   "metadata": {},
   "outputs": [],
   "source": [
    "def event_probability(n,s):\n",
    "    return n/s"
   ]
  },
  {
   "cell_type": "code",
   "execution_count": 6,
   "id": "c100e32e",
   "metadata": {},
   "outputs": [
    {
     "name": "stdout",
     "output_type": "stream",
     "text": [
      "probabilty of getting 4 or 5 in the first toss and a 1,2 or 3 in sewcond toss is 0.16666666666666666\n"
     ]
    }
   ],
   "source": [
    "# A fair die is tossed twice. Find the probability of getting\n",
    "#4 or 5 on the first toss and a 1,2 or 3 in the second toss.\n",
    "pa=event_probability(2,6) # probabilty of getting a 4 or 5 on the first toss\n",
    "pb= event_probability(3,6) # probability of getting 1,2,3 in second toss\n",
    "P=pa*pb \n",
    "print(\"probabilty of getting 4 or 5 in the first toss and a 1,2 or 3 in sewcond toss is\", P)"
   ]
  },
  {
   "cell_type": "code",
   "execution_count": 7,
   "id": "f099cbca",
   "metadata": {},
   "outputs": [
    {
     "name": "stdout",
     "output_type": "stream",
     "text": [
      " The probabilty of obtaining white, black, and green in that order is 0.5 0.3333333333333333 0.25\n"
     ]
    }
   ],
   "source": [
    "# A bag contains 5 white marbles, 3 black marbles and 2 green marbles\n",
    "# In each draw a marble is drawn from the bag and not replaced\n",
    "# In three draws , find the probability of obtaining white\n",
    "# black and greem in that order\n",
    "pw=event_probability(5,10)\n",
    "pb= event_probability(3,9)\n",
    "pg= event_probability(2,8)\n",
    "print(\" The probabilty of obtaining white, black, and green in that order is\", pw,pb,pg)"
   ]
  },
  {
   "cell_type": "code",
   "execution_count": 8,
   "id": "ab202c4a",
   "metadata": {},
   "outputs": [
    {
     "name": "stdout",
     "output_type": "stream",
     "text": [
      "0.5\n"
     ]
    }
   ],
   "source": [
    "# Sample space \n",
    "cards=52\n",
    "# Calculate the probabilty of drawing a heart or a club \n",
    "hearts=13\n",
    "clubs=13\n",
    "heart_or_club=event_probability(hearts, cards)+ event_probability(clubs, cards)\n",
    "print(heart_or_club)"
   ]
  },
  {
   "cell_type": "code",
   "execution_count": 9,
   "id": "c9a21c7a",
   "metadata": {},
   "outputs": [
    {
     "name": "stdout",
     "output_type": "stream",
     "text": [
      "0.23076923076923078\n"
     ]
    }
   ],
   "source": [
    "# Calculate the probability of drawing an ace, king or queen\n",
    "cards=52\n",
    "# Calculate the probability of drawing Ace, King or Queen \n",
    "Ace=4\n",
    "King=4\n",
    "Queen=4\n",
    "Ace_King_or_Queen=event_probability(Ace, cards)+event_probability(King,cards)+event_probability(Queen, cards)\n",
    "print(Ace_King_or_Queen)"
   ]
  },
  {
   "cell_type": "code",
   "execution_count": 10,
   "id": "28e814c9",
   "metadata": {},
   "outputs": [
    {
     "name": "stdout",
     "output_type": "stream",
     "text": [
      "0.3\n"
     ]
    }
   ],
   "source": [
    "# Calculate the probabilty of drawing heart or an ace\n",
    "cards=52\n",
    "Ace=4\n",
    "Heart=13\n",
    "Ace_of_hearts=1\n",
    "Heart_or_Ace=event_probability(Ace, cards)+event_probability(Heart, cards)-event_probability(Ace_of_hearts, cards)\n",
    "print(round(Heart_or_Ace,1))  # round function is used to roundup the value 1 is for 1 "
   ]
  },
  {
   "cell_type": "code",
   "execution_count": 11,
   "id": "ed2e497e",
   "metadata": {},
   "outputs": [
    {
     "name": "stdout",
     "output_type": "stream",
     "text": [
      "0.6\n"
     ]
    }
   ],
   "source": [
    "#Calculate the probabilty of drawing red cards or face cards\n",
    "cards=52\n",
    "Red_cards=26\n",
    "Face_cards=12\n",
    "Face_cards_of_red=6\n",
    "Red_or_Face=event_probability(Red_cards, cards)+event_probability(Face_cards,cards)-event_probability(Face_cards_of_red,cards)\n",
    "print(round(Red_or_Face,1))"
   ]
  },
  {
   "cell_type": "code",
   "execution_count": 12,
   "id": "da5fc154",
   "metadata": {},
   "outputs": [
    {
     "name": "stdout",
     "output_type": "stream",
     "text": [
      "probability of not getting 5 is :  0.8333333333333334\n"
     ]
    }
   ],
   "source": [
    "# probability of not getting 5 when a fair die is rolled \n",
    "ns=6 #n(S)={1,2,3,4,5,6}\n",
    "na=1 #n(A={5}\n",
    "pa=na/ns # p(a)\n",
    "print(\"probability of not getting 5 is : \", 1-pa)"
   ]
  },
  {
   "cell_type": "code",
   "execution_count": 13,
   "id": "4e0e69fc",
   "metadata": {},
   "outputs": [
    {
     "name": "stdout",
     "output_type": "stream",
     "text": [
      "0.0784313725490196\n"
     ]
    }
   ],
   "source": [
    "# Suppose you draw 2 cards from deck. You win if you get \n",
    "# ace given that you darw a jack in first draw\n",
    "cards=52\n",
    "j=4\n",
    "ace=4\n",
    "pj=event_probability(j,52)\n",
    "pa=event_probability(ace,51)\n",
    "pa_given_j=(pj*pa)/pj\n",
    "print(pa_given_j)"
   ]
  },
  {
   "cell_type": "code",
   "execution_count": 14,
   "id": "bc8f868a",
   "metadata": {},
   "outputs": [
    {
     "data": {
      "text/html": [
       "<div>\n",
       "<style scoped>\n",
       "    .dataframe tbody tr th:only-of-type {\n",
       "        vertical-align: middle;\n",
       "    }\n",
       "\n",
       "    .dataframe tbody tr th {\n",
       "        vertical-align: top;\n",
       "    }\n",
       "\n",
       "    .dataframe thead th {\n",
       "        text-align: right;\n",
       "    }\n",
       "</style>\n",
       "<table border=\"1\" class=\"dataframe\">\n",
       "  <thead>\n",
       "    <tr style=\"text-align: right;\">\n",
       "      <th></th>\n",
       "      <th>school</th>\n",
       "      <th>sex</th>\n",
       "      <th>age</th>\n",
       "      <th>address</th>\n",
       "      <th>famsize</th>\n",
       "      <th>Pstatus</th>\n",
       "      <th>Medu</th>\n",
       "      <th>Fedu</th>\n",
       "      <th>Mjob</th>\n",
       "      <th>Fjob</th>\n",
       "      <th>...</th>\n",
       "      <th>famrel</th>\n",
       "      <th>freetime</th>\n",
       "      <th>goout</th>\n",
       "      <th>Dalc</th>\n",
       "      <th>Walc</th>\n",
       "      <th>health</th>\n",
       "      <th>absences</th>\n",
       "      <th>G1</th>\n",
       "      <th>G2</th>\n",
       "      <th>G3</th>\n",
       "    </tr>\n",
       "  </thead>\n",
       "  <tbody>\n",
       "    <tr>\n",
       "      <th>0</th>\n",
       "      <td>GP</td>\n",
       "      <td>F</td>\n",
       "      <td>18</td>\n",
       "      <td>U</td>\n",
       "      <td>GT3</td>\n",
       "      <td>A</td>\n",
       "      <td>4</td>\n",
       "      <td>4</td>\n",
       "      <td>at_home</td>\n",
       "      <td>teacher</td>\n",
       "      <td>...</td>\n",
       "      <td>4</td>\n",
       "      <td>3</td>\n",
       "      <td>4</td>\n",
       "      <td>1</td>\n",
       "      <td>1</td>\n",
       "      <td>3</td>\n",
       "      <td>6</td>\n",
       "      <td>5</td>\n",
       "      <td>6</td>\n",
       "      <td>6</td>\n",
       "    </tr>\n",
       "    <tr>\n",
       "      <th>1</th>\n",
       "      <td>GP</td>\n",
       "      <td>F</td>\n",
       "      <td>17</td>\n",
       "      <td>U</td>\n",
       "      <td>GT3</td>\n",
       "      <td>T</td>\n",
       "      <td>1</td>\n",
       "      <td>1</td>\n",
       "      <td>at_home</td>\n",
       "      <td>other</td>\n",
       "      <td>...</td>\n",
       "      <td>5</td>\n",
       "      <td>3</td>\n",
       "      <td>3</td>\n",
       "      <td>1</td>\n",
       "      <td>1</td>\n",
       "      <td>3</td>\n",
       "      <td>4</td>\n",
       "      <td>5</td>\n",
       "      <td>5</td>\n",
       "      <td>6</td>\n",
       "    </tr>\n",
       "    <tr>\n",
       "      <th>2</th>\n",
       "      <td>GP</td>\n",
       "      <td>F</td>\n",
       "      <td>15</td>\n",
       "      <td>U</td>\n",
       "      <td>LE3</td>\n",
       "      <td>T</td>\n",
       "      <td>1</td>\n",
       "      <td>1</td>\n",
       "      <td>at_home</td>\n",
       "      <td>other</td>\n",
       "      <td>...</td>\n",
       "      <td>4</td>\n",
       "      <td>3</td>\n",
       "      <td>2</td>\n",
       "      <td>2</td>\n",
       "      <td>3</td>\n",
       "      <td>3</td>\n",
       "      <td>10</td>\n",
       "      <td>7</td>\n",
       "      <td>8</td>\n",
       "      <td>10</td>\n",
       "    </tr>\n",
       "  </tbody>\n",
       "</table>\n",
       "<p>3 rows × 33 columns</p>\n",
       "</div>"
      ],
      "text/plain": [
       "  school sex  age address famsize Pstatus  Medu  Fedu     Mjob     Fjob  ...  \\\n",
       "0     GP   F   18       U     GT3       A     4     4  at_home  teacher  ...   \n",
       "1     GP   F   17       U     GT3       T     1     1  at_home    other  ...   \n",
       "2     GP   F   15       U     LE3       T     1     1  at_home    other  ...   \n",
       "\n",
       "  famrel freetime  goout  Dalc  Walc health absences G1 G2  G3  \n",
       "0      4        3      4     1     1      3        6  5  6   6  \n",
       "1      5        3      3     1     1      3        4  5  5   6  \n",
       "2      4        3      2     2     3      3       10  7  8  10  \n",
       "\n",
       "[3 rows x 33 columns]"
      ]
     },
     "execution_count": 14,
     "metadata": {},
     "output_type": "execute_result"
    }
   ],
   "source": [
    "import pandas as pd \n",
    "import numpy as np\n",
    "df=pd.read_csv(\"C:/Users/MSCIT/Downloads/student-mat.csv\")\n",
    "df.head(3)"
   ]
  },
  {
   "cell_type": "code",
   "execution_count": 15,
   "id": "77ff5823",
   "metadata": {},
   "outputs": [
    {
     "data": {
      "text/plain": [
       "395"
      ]
     },
     "execution_count": 15,
     "metadata": {},
     "output_type": "execute_result"
    }
   ],
   "source": [
    "len(df)"
   ]
  },
  {
   "cell_type": "code",
   "execution_count": 16,
   "id": "6247ad19",
   "metadata": {},
   "outputs": [
    {
     "data": {
      "text/plain": [
       "0      0\n",
       "1      0\n",
       "2      0\n",
       "3      0\n",
       "4      0\n",
       "      ..\n",
       "390    0\n",
       "391    0\n",
       "392    0\n",
       "393    0\n",
       "394    0\n",
       "Name: grade_A, Length: 395, dtype: int32"
      ]
     },
     "execution_count": 16,
     "metadata": {},
     "output_type": "execute_result"
    }
   ],
   "source": [
    "df['grade_A']=np.where(df[\"G3\"]*5>80,1,0)\n",
    "df['grade_A']"
   ]
  },
  {
   "cell_type": "code",
   "execution_count": 17,
   "id": "49b41e04",
   "metadata": {},
   "outputs": [
    {
     "data": {
      "text/plain": [
       "0      0\n",
       "1      0\n",
       "2      1\n",
       "3      0\n",
       "4      0\n",
       "      ..\n",
       "390    1\n",
       "391    0\n",
       "392    0\n",
       "393    0\n",
       "394    0\n",
       "Name: high_absences, Length: 395, dtype: int32"
      ]
     },
     "execution_count": 17,
     "metadata": {},
     "output_type": "execute_result"
    }
   ],
   "source": [
    "df['high_absences']=np.where(df['absences']>=10,1,0)\n",
    "df['high_absences']\n"
   ]
  },
  {
   "cell_type": "code",
   "execution_count": 18,
   "id": "3bba2e33",
   "metadata": {},
   "outputs": [
    {
     "data": {
      "text/plain": [
       "0      1\n",
       "1      1\n",
       "2      1\n",
       "3      1\n",
       "4      1\n",
       "      ..\n",
       "390    1\n",
       "391    1\n",
       "392    1\n",
       "393    1\n",
       "394    1\n",
       "Name: count, Length: 395, dtype: int64"
      ]
     },
     "execution_count": 18,
     "metadata": {},
     "output_type": "execute_result"
    }
   ],
   "source": [
    "df['count']=1\n",
    "df['count']"
   ]
  },
  {
   "cell_type": "code",
   "execution_count": 19,
   "id": "527e7d82",
   "metadata": {},
   "outputs": [
    {
     "data": {
      "text/html": [
       "<div>\n",
       "<style scoped>\n",
       "    .dataframe tbody tr th:only-of-type {\n",
       "        vertical-align: middle;\n",
       "    }\n",
       "\n",
       "    .dataframe tbody tr th {\n",
       "        vertical-align: top;\n",
       "    }\n",
       "\n",
       "    .dataframe thead th {\n",
       "        text-align: right;\n",
       "    }\n",
       "</style>\n",
       "<table border=\"1\" class=\"dataframe\">\n",
       "  <thead>\n",
       "    <tr style=\"text-align: right;\">\n",
       "      <th></th>\n",
       "      <th>grade_A</th>\n",
       "      <th>high_absences</th>\n",
       "      <th>count</th>\n",
       "    </tr>\n",
       "  </thead>\n",
       "  <tbody>\n",
       "    <tr>\n",
       "      <th>0</th>\n",
       "      <td>0</td>\n",
       "      <td>0</td>\n",
       "      <td>1</td>\n",
       "    </tr>\n",
       "    <tr>\n",
       "      <th>1</th>\n",
       "      <td>0</td>\n",
       "      <td>0</td>\n",
       "      <td>1</td>\n",
       "    </tr>\n",
       "    <tr>\n",
       "      <th>2</th>\n",
       "      <td>0</td>\n",
       "      <td>1</td>\n",
       "      <td>1</td>\n",
       "    </tr>\n",
       "    <tr>\n",
       "      <th>3</th>\n",
       "      <td>0</td>\n",
       "      <td>0</td>\n",
       "      <td>1</td>\n",
       "    </tr>\n",
       "    <tr>\n",
       "      <th>4</th>\n",
       "      <td>0</td>\n",
       "      <td>0</td>\n",
       "      <td>1</td>\n",
       "    </tr>\n",
       "  </tbody>\n",
       "</table>\n",
       "</div>"
      ],
      "text/plain": [
       "   grade_A  high_absences  count\n",
       "0        0              0      1\n",
       "1        0              0      1\n",
       "2        0              1      1\n",
       "3        0              0      1\n",
       "4        0              0      1"
      ]
     },
     "execution_count": 19,
     "metadata": {},
     "output_type": "execute_result"
    }
   ],
   "source": [
    "df=df[['grade_A','high_absences','count']]\n",
    "df.head()"
   ]
  },
  {
   "cell_type": "code",
   "execution_count": 20,
   "id": "c29e63e9",
   "metadata": {},
   "outputs": [
    {
     "name": "stdout",
     "output_type": "stream",
     "text": [
      "high_absences    0   1\n",
      "grade_A               \n",
      "0              292  79\n",
      "1               20   4\n"
     ]
    }
   ],
   "source": [
    "final=pd.pivot_table(\n",
    "      df,\n",
    "      values='count',\n",
    "      index=['grade_A'],\n",
    "      columns=['high_absences'],\n",
    "      aggfunc=np.size,\n",
    "      fill_value=0\n",
    ")\n",
    "print(final)"
   ]
  },
  {
   "cell_type": "code",
   "execution_count": 42,
   "id": "3d2bcc8b",
   "metadata": {},
   "outputs": [
    {
     "data": {
      "text/plain": [
       "0.060759493670886074"
      ]
     },
     "execution_count": 42,
     "metadata": {},
     "output_type": "execute_result"
    }
   ],
   "source": [
    "total=final.iloc[0,0]+final.iloc[0,1]+final.iloc[1,0]+final.iloc[1,1]\n",
    "p_a=(final.iloc[1,0]+final.iloc[1,1])/total\n",
    "p_a"
   ]
  },
  {
   "cell_type": "code",
   "execution_count": 43,
   "id": "df1b5330",
   "metadata": {},
   "outputs": [
    {
     "data": {
      "text/plain": [
       "0.21012658227848102"
      ]
     },
     "execution_count": 43,
     "metadata": {},
     "output_type": "execute_result"
    }
   ],
   "source": [
    "p_b=(final.iloc[0,1]+final.iloc[1,1])/total\n",
    "p_b"
   ]
  },
  {
   "cell_type": "code",
   "execution_count": 44,
   "id": "7c80fe74",
   "metadata": {},
   "outputs": [
    {
     "data": {
      "text/plain": [
       "0.010126582278481013"
      ]
     },
     "execution_count": 44,
     "metadata": {},
     "output_type": "execute_result"
    }
   ],
   "source": [
    "p_c=(final.iloc[1,1])/total\n",
    "p_c"
   ]
  },
  {
   "cell_type": "code",
   "execution_count": 45,
   "id": "1451e4e9",
   "metadata": {},
   "outputs": [],
   "source": [
    "p_d=p_c/p_b"
   ]
  },
  {
   "cell_type": "code",
   "execution_count": 46,
   "id": "59910cc2",
   "metadata": {},
   "outputs": [
    {
     "data": {
      "text/plain": [
       "0.048192771084337345"
      ]
     },
     "execution_count": 46,
     "metadata": {},
     "output_type": "execute_result"
    }
   ],
   "source": [
    "p_d"
   ]
  },
  {
   "cell_type": "code",
   "execution_count": null,
   "id": "e08d3aac",
   "metadata": {},
   "outputs": [],
   "source": []
  }
 ],
 "metadata": {
  "kernelspec": {
   "display_name": "Python 3 (ipykernel)",
   "language": "python",
   "name": "python3"
  },
  "language_info": {
   "codemirror_mode": {
    "name": "ipython",
    "version": 3
   },
   "file_extension": ".py",
   "mimetype": "text/x-python",
   "name": "python",
   "nbconvert_exporter": "python",
   "pygments_lexer": "ipython3",
   "version": "3.9.12"
  }
 },
 "nbformat": 4,
 "nbformat_minor": 5
}
